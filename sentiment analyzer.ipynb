{
 "cells": [
  {
   "cell_type": "markdown",
   "id": "311de401",
   "metadata": {},
   "source": [
    "# Twitter Sentiment Analysis\n",
    "## Environment"
   ]
  },
  {
   "cell_type": "code",
   "execution_count": 12,
   "id": "a3a77432",
   "metadata": {},
   "outputs": [],
   "source": [
    "import tweepy\n",
    "from tweepy import OAuthHandler\n",
    "from textblob import TextBlob\n",
    "import nltk\n",
    "nltk.download('stopwords')\n",
    "from nltk.corpus import stopwords\n",
    "from collections import Counter\n",
    "import pandas as pd\n",
    "import numpy as np\n",
    "import re \n",
    "import ipywidgets as widgets\n",
    "import matplotlib.pyplot as plt\n",
    "from IPython.display import display\n",
    "import io\n",
    "plt.style.use('fivethirtyeight')"
   ]
  },
  {
   "cell_type": "code",
   "execution_count": 13,
   "id": "b4d74307",
   "metadata": {},
   "outputs": [],
   "source": [
    "# API keys and tokens\n",
    "consumer_key = \"1oXtkBpLdErIe1brgMT2Gvn6b\"\n",
    "consumer_secret = \"LT9GdsIhDl9luNE5lG1KDuITyerBMkJyJljSybZ41GYCr6U5g3\"\n",
    "access_token = \"1526155687608594432-HNI9l5Ej8Vc5kbnFt8SgZH6c2Ycm9N\"\n",
    "access_token_secret = \"KXFjY6R3HCNM7OfklXYuCxImPEBg5GfeTOPFef64H4xYz\""
   ]
  },
  {
   "cell_type": "markdown",
   "id": "eb2237ad",
   "metadata": {},
   "source": [
    "## Access Twitter API"
   ]
  },
  {
   "cell_type": "code",
   "execution_count": 14,
   "id": "a70a5e79",
   "metadata": {},
   "outputs": [],
   "source": [
    "# Authenticate to twitter API\n",
    "auth = tweepy.OAuthHandler(consumer_key, consumer_secret)\n",
    "auth.set_access_token(access_token, access_token_secret)\n",
    "\n",
    "client = tweepy.API(auth, wait_on_rate_limit = True)"
   ]
  },
  {
   "cell_type": "markdown",
   "id": "d69973d5",
   "metadata": {},
   "source": [
    "## Data Cleaning Function"
   ]
  },
  {
   "cell_type": "code",
   "execution_count": 15,
   "id": "f2ea4271",
   "metadata": {},
   "outputs": [],
   "source": [
    "# Function for removing unnecessary details from tweets\n",
    "def clean_data(text):\n",
    "    text = text.lower()\n",
    "    text = re.sub(\"@[\\w]*\", \"\", text)\n",
    "    text = re.sub(\"http\\S+\", \"\", text)\n",
    "    text = re.sub(\"[^a-zA-Z#]\", \" \", text)\n",
    "    text = re.sub(\"#\", \"\", text)\n",
    "    text = re.sub(\"rt\", \"\", text)\n",
    "    text = re.sub(\"\\s+\", \" \", text)\n",
    "    \n",
    "    return text"
   ]
  },
  {
   "cell_type": "markdown",
   "id": "f49c748f",
   "metadata": {},
   "source": [
    "## Analysis Functions"
   ]
  },
  {
   "cell_type": "code",
   "execution_count": 16,
   "id": "411abc23",
   "metadata": {},
   "outputs": [],
   "source": [
    "# Function for calculating polarity\n",
    "def get_polarity(text):\n",
    "    return TextBlob(text).sentiment.polarity\n",
    "\n",
    "# Function for calculating subjectivity\n",
    "def get_subjectivity(text):\n",
    "    return TextBlob(text).sentiment.subjectivity"
   ]
  },
  {
   "cell_type": "code",
   "execution_count": 17,
   "id": "9e7c6be2",
   "metadata": {},
   "outputs": [],
   "source": [
    "# Function for categorizing sentiment of tweet\n",
    "def get_analysis(score):\n",
    "    if score < 0:\n",
    "        return \"Negative\"\n",
    "    if score == 0:\n",
    "        return \"Neutral\"\n",
    "    else:\n",
    "        return \"Positive\""
   ]
  },
  {
   "cell_type": "code",
   "execution_count": 18,
   "id": "487546d2",
   "metadata": {},
   "outputs": [],
   "source": [
    "# Widgets for input\n",
    "keyword=widgets.Text(\n",
    "    placeholder='Type something',\n",
    "    description='Keyword:',\n",
    "    disabled=False\n",
    ")\n",
    "\n",
    "number=widgets.Text(\n",
    "    placeholder='Number of tweets',\n",
    "    description='Count:',\n",
    "    disabled=False\n",
    ")"
   ]
  },
  {
   "cell_type": "code",
   "execution_count": 19,
   "id": "19fef8a7",
   "metadata": {},
   "outputs": [],
   "source": [
    "# Widgets for output\n",
    "generate_scores = widgets.Button(description=\"Generate\")\n",
    "output = widgets.Output()\n",
    "pie_output = widgets.Output()\n",
    "scatter_output = widgets.Output()\n",
    "word_output = widgets.Output()"
   ]
  },
  {
   "cell_type": "markdown",
   "id": "c02225cd",
   "metadata": {},
   "source": [
    "## Model Data"
   ]
  },
  {
   "cell_type": "code",
   "execution_count": 20,
   "id": "08bf56ff",
   "metadata": {},
   "outputs": [],
   "source": [
    "@output.capture()\n",
    "# When user clicks the search button, it grabs tweets matching the keyword\n",
    "# and then generates a list containing their polarity score and sentiment\n",
    "def on_button_clicked(b):\n",
    "    tweets = client.search_tweets(keyword.value, count=number.value, lang=\"en\")\n",
    "    df = pd.DataFrame( [tweet.text for tweet in tweets] , columns=['Tweets'])\n",
    "    df['Tweets'] = df['Tweets'].apply(clean_data)\n",
    "    df['Polarity'] = df['Tweets'].apply(get_polarity) \n",
    "    df['Analysis'] = df['Polarity'].apply(get_analysis)\n",
    "    \n",
    "    # Calculate percentage of positive tweets\n",
    "    pos_tweets = df[df.Analysis == 'Positive']\n",
    "    \n",
    "    pos_percentage = round( (pos_tweets.shape[0]/df.shape[0])*100, 1)\n",
    "    \n",
    "    # Calculate percentage of negative tweets\n",
    "    neg_tweets = df[df.Analysis == 'Negative']\n",
    "    \n",
    "    neg_percentage = round( (neg_tweets.shape[0]/df.shape[0])*100, 1)\n",
    "    \n",
    "    print(\"Positive percentage = \", pos_percentage, '%')\n",
    "    print(\"Negative percentage = \", neg_percentage, '%')\n",
    "    print(df)\n",
    "    \n",
    "    # Plot pie chart\n",
    "    with pie_output:\n",
    "        df['Analysis'].value_counts().plot(kind='pie')\n",
    "        plt.title(\"Sentiment Analysis\")\n",
    "        plt.show()\n",
    "        \n",
    "    # Plot scatterplot\n",
    "    with scatter_output:\n",
    "        plt.figure(figsize=(8,6))\n",
    "        df['Subjectivity'] = df['Tweets'].apply(get_subjectivity) \n",
    "        for i in range(0, df.shape[0]):\n",
    "            plt.scatter(df['Polarity'][i], df['Subjectivity'][i], color='Blue')\n",
    "        plt.title(\"Sentiment Analysis\")\n",
    "        plt.xlabel('Polarity')\n",
    "        plt.ylabel('Subjectivity')\n",
    "        plt.show()\n",
    "        \n",
    "    # Plot word frequency bar graph\n",
    "    with word_output:\n",
    "        # Split tweets\n",
    "        split_tweets = str(df['Tweets']).split()\n",
    "        \n",
    "        cleaned_tweets = []\n",
    "        \n",
    "        filtered_tweets = []\n",
    "        stop_words = set(stopwords.words('english'))\n",
    "    \n",
    "        # Remove stopwords\n",
    "        for w in split_tweets: \n",
    "            if not w in stop_words and w != '...': \n",
    "                filtered_tweets.append(w)\n",
    "                \n",
    "        # Get 10 most common words\n",
    "        counter = Counter(filtered_tweets)\n",
    "        most_occur = counter.most_common(10) \n",
    "        \n",
    "        x1 = [x[0] for x in most_occur]\n",
    "        y1 = [x[1] for x in most_occur]\n",
    "        \n",
    "        # Plot bar graph\n",
    "        plt.figure(figsize=(10,6)) \n",
    "        plt.barh(x1, y1)\n",
    "        plt.title(\"Word Frequency Analysis\")\n",
    "        plt.xlabel('Frequency')\n",
    "        plt.ylabel('Words')\n",
    "        plt.show()\n",
    "    \n",
    "generate_scores.on_click(on_button_clicked)"
   ]
  },
  {
   "cell_type": "markdown",
   "id": "05e4b310",
   "metadata": {},
   "source": [
    "## Interactive Query"
   ]
  },
  {
   "cell_type": "code",
   "execution_count": 21,
   "id": "12158c89",
   "metadata": {},
   "outputs": [
    {
     "data": {
      "application/vnd.jupyter.widget-view+json": {
       "model_id": "6dd815ee426c4c4f8b41677e6d24f91c",
       "version_major": 2,
       "version_minor": 0
      },
      "text/plain": [
       "VBox(children=(HBox(children=(Text(value='', description='Keyword:', placeholder='Type something'), Text(value…"
      ]
     },
     "metadata": {},
     "output_type": "display_data"
    },
    {
     "data": {
      "application/vnd.jupyter.widget-view+json": {
       "model_id": "920fb1876a144a128181cbf1c4f39b6f",
       "version_major": 2,
       "version_minor": 0
      },
      "text/plain": [
       "Button(description='Generate', style=ButtonStyle())"
      ]
     },
     "metadata": {},
     "output_type": "display_data"
    }
   ],
   "source": [
    "# Display dashboard and widgets\n",
    "search_widgets = widgets.HBox( [keyword, number] )\n",
    "\n",
    "tabs = widgets.Tab([output, pie_output, scatter_output, word_output])\n",
    "tabs.set_title(0, 'Dataset')\n",
    "tabs.set_title(1, 'Pie Chart')\n",
    "tabs.set_title(2, 'Scatterplot')\n",
    "tabs.set_title(3, 'Word Frequency')\n",
    "dashboard = widgets.VBox([search_widgets, tabs])\n",
    "display(dashboard)\n",
    "display(generate_scores)"
   ]
  },
  {
   "cell_type": "markdown",
   "id": "b43d04c3",
   "metadata": {},
   "source": [
    "## Model Accuracy"
   ]
  },
  {
   "cell_type": "code",
   "execution_count": 31,
   "id": "ddbcf0b5",
   "metadata": {},
   "outputs": [
    {
     "name": "stdout",
     "output_type": "stream",
     "text": [
      "Positive accuracy = 71.1% via 5332 samples\n",
      "Negative accuracy = 55.9% via 5332 samples\n"
     ]
    }
   ],
   "source": [
    "pos_count = 0\n",
    "pos_correct = 0\n",
    "\n",
    "with io.open('positive.txt', encoding='latin-1') as f:\n",
    "    for sample in f.read().split('\\n'):\n",
    "        analysis = TextBlob(sample)\n",
    "        if analysis.sentiment.polarity > 0:\n",
    "            pos_correct += 1\n",
    "        pos_count +=1\n",
    "\n",
    "\n",
    "neg_count = 0\n",
    "neg_correct = 0\n",
    "\n",
    "with io.open('negative.txt', encoding='latin-1') as f:\n",
    "    for sample in f.read().split('\\n'):\n",
    "        analysis = TextBlob(sample)\n",
    "        if analysis.sentiment.polarity <= 0:\n",
    "            neg_correct += 1\n",
    "        neg_count +=1\n",
    "\n",
    "print(\"Positive accuracy = {}% via {} samples\".format(round((pos_correct/pos_count*100.0), 1), pos_count))\n",
    "print(\"Negative accuracy = {}% via {} samples\".format(round((neg_correct/neg_count*100.0), 1), neg_count))"
   ]
  },
  {
   "cell_type": "code",
   "execution_count": null,
   "id": "58de6d62",
   "metadata": {},
   "outputs": [],
   "source": []
  }
 ],
 "metadata": {
  "kernelspec": {
   "display_name": "Python 3 (ipykernel)",
   "language": "python",
   "name": "python3"
  },
  "language_info": {
   "codemirror_mode": {
    "name": "ipython",
    "version": 3
   },
   "file_extension": ".py",
   "mimetype": "text/x-python",
   "name": "python",
   "nbconvert_exporter": "python",
   "pygments_lexer": "ipython3",
   "version": "3.9.12"
  }
 },
 "nbformat": 4,
 "nbformat_minor": 5
}
